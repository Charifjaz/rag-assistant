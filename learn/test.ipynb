{
 "cells": [
  {
   "cell_type": "code",
   "execution_count": null,
   "id": "b5fef32e",
   "metadata": {},
   "outputs": [
    {
     "name": "stdout",
     "output_type": "stream",
     "text": [
      "📦 Nombre de vecteurs indexés : 1\n",
      "\n",
      "🧩 Vector #0\n",
      "📝 Contenu : Mohcine\n",
      "EL HARRAS\n",
      "Data Scientist / Chef de projet\n",
      "Professionnel ambitieux avec une expertise en Data ...\n"
     ]
    }
   ],
   "source": [
    "# Explore index.pkl\n",
    "\n",
    "import pickle  # Pour lire les objets Python sérialisés dans le fichier .pkl\n",
    "\n",
    "# 📂 Ouvre le fichier 'index.pkl' contenant :\n",
    "# 1. un InMemoryDocstore (avec tous les documents)\n",
    "# 2. un id_map (associant les index FAISS aux IDs des documents)\n",
    "with open(\"../vectorstore/index.pkl\", \"rb\") as f:\n",
    "    docstore, id_map = pickle.load(f)\n",
    "\n",
    "# 🧮 Affiche le nombre total de vecteurs/document enregistrés\n",
    "print(\"📦 Nombre de vecteurs indexés :\", len(id_map))\n",
    "\n",
    "# 🔁 Parcours les 3 premiers documents vectorisés\n",
    "for i, vector_idx in enumerate(id_map):\n",
    "    # 🔗 Récupère l'identifiant du document à partir de l’index FAISS\n",
    "    doc_id = id_map[vector_idx]\n",
    "\n",
    "    # 📄 Récupère le document (texte + métadonnées) depuis le docstore\n",
    "    doc = docstore._dict[doc_id]\n",
    "\n",
    "    # 🖨️ Affiche un aperçu du contenu textuel\n",
    "    print(f\"\\n🧩 Vector #{vector_idx}\")\n",
    "    print(\"📝 Contenu :\", doc.page_content[:100], \"...\")  # Aff_"
   ]
  },
  {
   "cell_type": "code",
   "execution_count": 15,
   "id": "7c4646fa",
   "metadata": {},
   "outputs": [
    {
     "name": "stdout",
     "output_type": "stream",
     "text": [
      "📐 Dimension des vecteurs : 1536\n",
      "📦 Nombre total de vecteurs : 1\n",
      "🔢 Vecteur 0 (aperçu des 10 premières dimensions) : [-0.01958076 -0.00858437  0.01171458 -0.02487909 -0.0081643   0.03986616\n",
      " -0.00183612  0.00592504 -0.0164099  -0.01916069]\n"
     ]
    }
   ],
   "source": [
    "# Explore index.faiss\n",
    "import faiss  # Librairie pour manipulation de vecteurs\n",
    "\n",
    "# 📂 Chargement de l'index FAISS depuis le fichier binaire\n",
    "index = faiss.read_index(\"../vectorstore/index.faiss\")\n",
    "\n",
    "# 🧮 Affiche la dimension des vecteurs (ex: 1536 pour OpenAI, 768 pour d'autres)\n",
    "print(\"📐 Dimension des vecteurs :\", index.d)\n",
    "\n",
    "# 📊 Affiche combien de vecteurs sont stockés dans l'index\n",
    "print(\"📦 Nombre total de vecteurs :\", index.ntotal)\n",
    "\n",
    "# 🔍 Récupère le vecteur de l'élément à la position 0 (le premier chunk indexé)\n",
    "vec_0 = index.reconstruct(0)\n",
    "\n",
    "# 🖨️ Affiche les 10 premières valeurs du vecteur pour aperçu\n",
    "print(\"🔢 Vecteur 0 (aperçu des 10 premières dimensions) :\", vec_0[:10])\n"
   ]
  },
  {
   "cell_type": "code",
   "execution_count": null,
   "id": "d707f937",
   "metadata": {},
   "outputs": [],
   "source": []
  }
 ],
 "metadata": {
  "kernelspec": {
   "display_name": ".venv",
   "language": "python",
   "name": "python3"
  },
  "language_info": {
   "codemirror_mode": {
    "name": "ipython",
    "version": 3
   },
   "file_extension": ".py",
   "mimetype": "text/x-python",
   "name": "python",
   "nbconvert_exporter": "python",
   "pygments_lexer": "ipython3",
   "version": "3.13.3"
  }
 },
 "nbformat": 4,
 "nbformat_minor": 5
}
