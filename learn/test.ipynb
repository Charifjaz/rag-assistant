{
 "cells": [
  {
   "cell_type": "code",
   "execution_count": 2,
   "id": "b5fef32e",
   "metadata": {},
   "outputs": [
    {
     "data": {
      "image/png": "[encoded data removed]",
      "text/plain": [
       "<Figure size 640x480 with 1 Axes>"
      ]
     },
     "metadata": {},
     "output_type": "display_data"
    }
   ],
   "source": [
    "import matplotlib.pyplot as plt\n",
    "import matplotlib.animation as animation\n",
    "import numpy as np\n",
    "\n",
    "# === Configuration ===\n",
    "n_sides = 6  # Nombre de côtés du polygone\n",
    "radius = 2   # Rayon du polygone\n",
    "ball_radius = 0.1  # Rayon de la balle\n",
    "rotation_speed = 0.05  # Vitesse de rotation\n",
    "gravity = 0.02  # Force gravitationnelle\n",
    "\n",
    "# === Calcul initial du polygone ===\n",
    "angles = np.linspace(0, 2*np.pi, n_sides, endpoint=False)\n",
    "polygon_x = radius * np.cos(angles)\n",
    "polygon_y = radius * np.sin(angles)\n",
    "\n",
    "# === Position initiale de la balle ===\n",
    "ball_pos = np.array([0.0, 0.0])\n",
    "ball_vel = np.array([0.0, 0.0])\n",
    "\n",
    "# === Plot setup ===\n",
    "fig, ax = plt.subplots()\n",
    "ax.set_aspect('equal')\n",
    "ax.set_xlim(-3, 3)\n",
    "ax.set_ylim(-3, 3)\n",
    "polygon_patch, = ax.plot([], [], 'b-', lw=2)\n",
    "ball_patch = plt.Circle(ball_pos, ball_radius, color='red')\n",
    "ax.add_patch(ball_patch)\n",
    "\n",
    "# === Animation update ===\n",
    "def update(frame):\n",
    "    global polygon_x, polygon_y, ball_pos, ball_vel\n",
    "\n",
    "    # Rotation du polygone\n",
    "    angle = rotation_speed * frame\n",
    "    rot_matrix = np.array([[np.cos(angle), -np.sin(angle)],\n",
    "                           [np.sin(angle),  np.cos(angle)]])\n",
    "    rotated = rot_matrix @ np.vstack((polygon_x, polygon_y))\n",
    "    polygon_patch.set_data(rotated[0, :], rotated[1, :])\n",
    "\n",
    "    # Mise à jour de la position de la balle\n",
    "    ball_vel[1] -= gravity\n",
    "    ball_pos += ball_vel * 0.1\n",
    "\n",
    "    # Collision simple avec le bord (approximation)\n",
    "    dist_from_center = np.linalg.norm(ball_pos)\n",
    "    if dist_from_center + ball_radius > radius:\n",
    "        normal = ball_pos / dist_from_center\n",
    "        ball_vel = ball_vel - 2 * np.dot(ball_vel, normal) * normal\n",
    "        ball_pos = normal * (radius - ball_radius)\n",
    "\n",
    "    ball_patch.center = ball_pos\n",
    "    return polygon_patch, ball_patch\n",
    "\n",
    "# === Lancement de l'animation ===\n",
    "ani = animation.FuncAnimation(fig, update, frames=500, interval=30, blit=True)\n",
    "plt.show()"
   ]
  },
  {
   "cell_type": "code",
   "execution_count": 15,
   "id": "7c4646fa",
   "metadata": {},
   "outputs": [
    {
     "name": "stdout",
     "output_type": "stream",
     "text": [
      "📐 Dimension des vecteurs : 1536\n",
      "📦 Nombre total de vecteurs : 1\n",
      "🔢 Vecteur 0 (aperçu des 10 premières dimensions) : [-0.01958076 -0.00858437  0.01171458 -0.02487909 -0.0081643   0.03986616\n",
      " -0.00183612  0.00592504 -0.0164099  -0.01916069]\n"
     ]
    }
   ],
   "source": [
    "# Explore index.faiss\n",
    "import faiss  # Librairie pour manipulation de vecteurs\n",
    "\n",
    "# 📂 Chargement de l'index FAISS depuis le fichier binaire\n",
    "index = faiss.read_index(\"../vectorstore/index.faiss\")\n",
    "\n",
    "# 🧮 Affiche la dimension des vecteurs (ex: 1536 pour OpenAI, 768 pour d'autres)\n",
    "print(\"📐 Dimension des vecteurs :\", index.d)\n",
    "\n",
    "# 📊 Affiche combien de vecteurs sont stockés dans l'index\n",
    "print(\"📦 Nombre total de vecteurs :\", index.ntotal)\n",
    "\n",
    "# 🔍 Récupère le vecteur de l'élément à la position 0 (le premier chunk indexé)\n",
    "vec_0 = index.reconstruct(0)\n",
    "\n",
    "# 🖨️ Affiche les 10 premières valeurs du vecteur pour aperçu\n",
    "print(\"🔢 Vecteur 0 (aperçu des 10 premières dimensions) :\", vec_0[:10])\n"
   ]
  },
  {
   "cell_type": "code",
   "execution_count": null,
   "id": "d707f937",
   "metadata": {},
   "outputs": [],
   "source": []
  }
 ],
 "metadata": {
  "kernelspec": {
   "display_name": ".venv",
   "language": "python",
   "name": "python3"
  },
  "language_info": {
   "codemirror_mode": {
    "name": "ipython",
    "version": 3
   },
   "file_extension": ".py",
   "mimetype": "text/x-python",
   "name": "python",
   "nbconvert_exporter": "python",
   "pygments_lexer": "ipython3",
   "version": "3.13.3"
  }
 },
 "nbformat": 4,
 "nbformat_minor": 5
}
